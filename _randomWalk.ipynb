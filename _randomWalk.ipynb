{
 "cells": [
  {
   "cell_type": "code",
   "execution_count": 24,
   "metadata": {},
   "outputs": [],
   "source": [
    "# Import library yang dibutuhkan\n",
    "import numpy as np\n",
    "import matplotlib.pyplot as plt\n",
    "from numpy import random"
   ]
  },
  {
   "cell_type": "code",
   "execution_count": 25,
   "metadata": {},
   "outputs": [],
   "source": [
    "# Mendefinisikan ukuran dan posisi awal\n",
    "x_min=0\n",
    "x_max=5\n",
    "y_min=0\n",
    "y_max=4\n",
    "\n",
    "n_particle=10\n",
    "n_iteration=100"
   ]
  },
  {
   "cell_type": "code",
   "execution_count": 26,
   "metadata": {},
   "outputs": [],
   "source": [
    "x_range = x_max - x_min\n",
    "y_range = y_max - y_min\n",
    "\n",
    "list_temp = [[]]\n",
    "temp = []"
   ]
  },
  {
   "cell_type": "code",
   "execution_count": 29,
   "metadata": {},
   "outputs": [],
   "source": [
    "for i in range(n_particle):\n",
    "    x_rand = random.randint(x_min,x_max)\n",
    "    y_rand = random.randint(y_min, y_max)\n",
    "    list_temp[0].append((x_rand, y_rand))\n",
    "\n",
    "    for i in range(n_iteration):\n",
    "        for pos in list_temp:\n",
    "            new_post = []\n",
    "            for coor in pos:\n",
    "                next_y=0\n",
    "                next_x=0\n",
    "                rand = random.rand()\n",
    "                \n",
    "                if rand <= 0.25:\n",
    "                    next_x = coor[0] + 1\n",
    "                elif rand <= 0.50:\n",
    "                    next_y = coor[1] - 1\n",
    "                elif rand <= 0.75:\n",
    "                    next_x = coor[0] - 1\n",
    "                else:\n",
    "                    next_y = coor[1] + 1\n",
    "\n",
    "            #PBC\n",
    "            if next_x > x_max:\n",
    "                next_x = next_x - x_range\n",
    "            if next_x < x_min:\n",
    "                next_x = next_x + x_range\n",
    "            if next_y > y_max:\n",
    "                next_y = next_y - y_range\n",
    "            if next_y < y_max:\n",
    "                next_y = next_y + y_range\n",
    "\n",
    "            new_post.append((next_x, next_x))\n",
    "        temp.append(new_post)"
   ]
  },
  {
   "cell_type": "code",
   "execution_count": 30,
   "metadata": {},
   "outputs": [
    {
     "name": "stdout",
     "output_type": "stream",
     "text": [
      "[[(0, 0)], [(0, 0)], [(0, 0)], [(2, 2)], [(0, 0)], [(0, 0)], [(0, 0)], [(0, 0)], [(0, 0)], [(2, 2)], [(0, 0)], [(0, 0)], [(0, 0)], [(0, 0)], [(0, 0)], [(0, 0)], [(2, 2)], [(0, 0)], [(0, 0)], [(0, 0)], [(0, 0)], [(2, 2)], [(0, 0)], [(0, 0)], [(0, 0)], [(0, 0)], [(0, 0)], [(0, 0)], [(0, 0)], [(0, 0)], [(0, 0)], [(2, 2)], [(2, 2)], [(0, 0)], [(2, 2)], [(0, 0)], [(2, 2)], [(2, 2)], [(0, 0)], [(2, 2)], [(0, 0)], [(2, 2)], [(2, 2)], [(2, 2)], [(0, 0)], [(0, 0)], [(0, 0)], [(2, 2)], [(0, 0)], [(2, 2)], [(0, 0)], [(2, 2)], [(0, 0)], [(0, 0)], [(0, 0)], [(0, 0)], [(0, 0)], [(2, 2)], [(0, 0)], [(0, 0)], [(2, 2)], [(2, 2)], [(0, 0)], [(2, 2)], [(0, 0)], [(0, 0)], [(0, 0)], [(2, 2)], [(0, 0)], [(0, 0)], [(2, 2)], [(0, 0)], [(2, 2)], [(2, 2)], [(0, 0)], [(2, 2)], [(0, 0)], [(0, 0)], [(0, 0)], [(0, 0)], [(0, 0)], [(0, 0)], [(0, 0)], [(2, 2)], [(0, 0)], [(0, 0)], [(0, 0)], [(0, 0)], [(0, 0)], [(0, 0)], [(0, 0)], [(0, 0)], [(0, 0)], [(2, 2)], [(2, 2)], [(0, 0)], [(0, 0)], [(0, 0)], [(0, 0)], [(0, 0)], [(0, 0)], [(3, 3)], [(5, 5)], [(3, 3)], [(3, 3)], [(0, 0)], [(0, 0)], [(5, 5)], [(0, 0)], [(0, 0)], [(5, 5)], [(3, 3)], [(5, 5)], [(5, 5)], [(5, 5)], [(0, 0)], [(0, 0)], [(3, 3)], [(0, 0)], [(3, 3)], [(3, 3)], [(0, 0)], [(5, 5)], [(3, 3)], [(3, 3)], [(3, 3)], [(5, 5)], [(3, 3)], [(3, 3)], [(0, 0)], [(3, 3)], [(3, 3)], [(0, 0)], [(5, 5)], [(5, 5)], [(0, 0)], [(5, 5)], [(5, 5)], [(0, 0)], [(0, 0)], [(3, 3)], [(0, 0)], [(0, 0)], [(0, 0)], [(3, 3)], [(5, 5)], [(5, 5)], [(3, 3)], [(0, 0)], [(3, 3)], [(3, 3)], [(0, 0)], [(3, 3)], [(5, 5)], [(3, 3)], [(5, 5)], [(0, 0)], [(0, 0)], [(0, 0)], [(0, 0)], [(3, 3)], [(3, 3)], [(5, 5)], [(0, 0)], [(0, 0)], [(5, 5)], [(0, 0)], [(0, 0)], [(5, 5)], [(5, 5)], [(3, 3)], [(5, 5)], [(0, 0)], [(0, 0)], [(0, 0)], [(5, 5)], [(0, 0)], [(0, 0)], [(5, 5)], [(3, 3)], [(3, 3)], [(0, 0)], [(3, 3)], [(5, 5)], [(0, 0)], [(5, 5)], [(3, 3)], [(0, 0)], [(3, 3)], [(0, 0)], [(0, 0)], [(0, 0)], [(0, 0)], [(0, 0)], [(0, 0)], [(0, 0)], [(0, 0)], [(3, 3)], [(5, 5)], [(5, 5)], [(0, 0)], [(0, 0)], [(2, 2)], [(0, 0)], [(2, 2)], [(2, 2)], [(2, 2)], [(0, 0)], [(0, 0)], [(2, 2)], [(2, 2)], [(0, 0)], [(0, 0)], [(0, 0)], [(2, 2)], [(0, 0)], [(0, 0)], [(0, 0)], [(0, 0)], [(0, 0)], [(0, 0)], [(0, 0)], [(2, 2)], [(0, 0)], [(0, 0)], [(0, 0)], [(0, 0)], [(0, 0)], [(0, 0)], [(0, 0)], [(0, 0)], [(0, 0)], [(0, 0)], [(0, 0)], [(0, 0)], [(2, 2)], [(0, 0)], [(0, 0)], [(0, 0)], [(0, 0)], [(0, 0)], [(2, 2)], [(0, 0)], [(0, 0)], [(0, 0)], [(0, 0)], [(0, 0)], [(2, 2)], [(0, 0)], [(0, 0)], [(2, 2)], [(2, 2)], [(2, 2)], [(0, 0)], [(0, 0)], [(0, 0)], [(0, 0)], [(2, 2)], [(0, 0)], [(0, 0)], [(2, 2)], [(2, 2)], [(0, 0)], [(0, 0)], [(2, 2)], [(0, 0)], [(0, 0)], [(0, 0)], [(0, 0)], [(2, 2)], [(0, 0)], [(0, 0)], [(2, 2)], [(0, 0)], [(0, 0)], [(0, 0)], [(0, 0)], [(0, 0)], [(0, 0)], [(0, 0)], [(0, 0)], [(2, 2)], [(0, 0)], [(0, 0)], [(2, 2)], [(0, 0)], [(2, 2)], [(0, 0)], [(2, 2)], [(0, 0)], [(0, 0)], [(0, 0)], [(0, 0)], [(2, 2)], [(0, 0)], [(0, 0)], [(0, 0)], [(0, 0)], [(0, 0)], [(2, 2)], [(0, 0)], [(0, 0)], [(0, 0)], [(0, 0)], [(2, 2)], [(0, 0)], [(0, 0)], [(0, 0)], [(2, 2)], [(2, 2)], [(0, 0)], [(0, 0)], [(0, 0)], [(0, 0)], [(0, 0)], [(0, 0)], [(2, 2)], [(2, 2)], [(2, 2)], [(2, 2)], [(2, 2)], [(0, 0)], [(0, 0)], [(0, 0)], [(0, 0)], [(0, 0)], [(0, 0)], [(2, 2)], [(2, 2)], [(0, 0)], [(0, 0)], [(0, 0)], [(0, 0)], [(2, 2)], [(2, 2)], [(0, 0)], [(2, 2)], [(0, 0)], [(2, 2)], [(2, 2)], [(0, 0)], [(2, 2)], [(0, 0)], [(2, 2)], [(2, 2)], [(0, 0)], [(0, 0)], [(2, 2)], [(0, 0)], [(0, 0)], [(0, 0)], [(0, 0)], [(0, 0)], [(0, 0)], [(0, 0)], [(0, 0)], [(0, 0)], [(0, 0)], [(2, 2)], [(0, 0)], [(0, 0)], [(0, 0)], [(0, 0)], [(0, 0)], [(2, 2)], [(0, 0)], [(0, 0)], [(0, 0)], [(0, 0)], [(0, 0)], [(0, 0)], [(2, 2)], [(0, 0)], [(2, 2)], [(0, 0)], [(2, 2)], [(2, 2)], [(0, 0)], [(0, 0)], [(0, 0)], [(0, 0)], [(0, 0)], [(0, 0)], [(2, 2)], [(0, 0)], [(0, 0)], [(0, 0)], [(0, 0)], [(2, 2)], [(0, 0)], [(0, 0)], [(0, 0)], [(0, 0)], [(2, 2)], [(2, 2)], [(0, 0)], [(0, 0)], [(0, 0)], [(2, 2)], [(0, 0)], [(0, 0)], [(3, 3)], [(1, 1)], [(0, 0)], [(0, 0)], [(3, 3)], [(1, 1)], [(3, 3)], [(3, 3)], [(3, 3)], [(1, 1)], [(1, 1)], [(1, 1)], [(1, 1)], [(0, 0)], [(0, 0)], [(0, 0)], [(1, 1)], [(3, 3)], [(1, 1)], [(0, 0)], [(0, 0)], [(3, 3)], [(0, 0)], [(0, 0)], [(3, 3)], [(0, 0)], [(3, 3)], [(3, 3)], [(0, 0)], [(3, 3)], [(0, 0)], [(1, 1)], [(0, 0)], [(1, 1)], [(3, 3)], [(3, 3)], [(1, 1)], [(3, 3)], [(3, 3)], [(1, 1)], [(1, 1)], [(0, 0)], [(0, 0)], [(0, 0)], [(0, 0)], [(0, 0)], [(3, 3)], [(1, 1)], [(0, 0)], [(3, 3)], [(1, 1)], [(1, 1)], [(0, 0)], [(0, 0)], [(3, 3)], [(1, 1)], [(0, 0)], [(1, 1)], [(3, 3)], [(0, 0)], [(3, 3)], [(3, 3)], [(0, 0)], [(0, 0)], [(0, 0)], [(0, 0)], [(0, 0)], [(3, 3)], [(3, 3)], [(3, 3)], [(1, 1)], [(0, 0)], [(0, 0)], [(3, 3)], [(0, 0)], [(0, 0)], [(1, 1)], [(3, 3)], [(0, 0)], [(1, 1)], [(3, 3)], [(0, 0)], [(1, 1)], [(3, 3)], [(1, 1)], [(0, 0)], [(0, 0)], [(0, 0)], [(0, 0)], [(3, 3)], [(3, 3)], [(0, 0)], [(0, 0)], [(0, 0)], [(3, 3)], [(0, 0)], [(0, 0)], [(3, 3)], [(0, 0)], [(3, 3)], [(0, 0)], [(5, 5)], [(0, 0)], [(5, 5)], [(3, 3)], [(5, 5)], [(0, 0)], [(5, 5)], [(5, 5)], [(5, 5)], [(3, 3)], [(5, 5)], [(5, 5)], [(0, 0)], [(0, 0)], [(0, 0)], [(0, 0)], [(0, 0)], [(3, 3)], [(0, 0)], [(0, 0)], [(0, 0)], [(0, 0)], [(0, 0)], [(3, 3)], [(5, 5)], [(3, 3)], [(0, 0)], [(3, 3)], [(3, 3)], [(5, 5)], [(5, 5)], [(0, 0)], [(3, 3)], [(5, 5)], [(5, 5)], [(0, 0)], [(0, 0)], [(0, 0)], [(5, 5)], [(0, 0)], [(3, 3)], [(0, 0)], [(0, 0)], [(0, 0)], [(0, 0)], [(3, 3)], [(0, 0)], [(0, 0)], [(5, 5)], [(5, 5)], [(0, 0)], [(3, 3)], [(0, 0)], [(3, 3)], [(5, 5)], [(5, 5)], [(3, 3)], [(3, 3)], [(3, 3)], [(0, 0)], [(0, 0)], [(0, 0)], [(3, 3)], [(3, 3)], [(0, 0)], [(3, 3)], [(3, 3)], [(0, 0)], [(0, 0)], [(5, 5)], [(5, 5)], [(5, 5)], [(0, 0)], [(0, 0)], [(3, 3)], [(5, 5)], [(0, 0)], [(0, 0)], [(3, 3)], [(5, 5)], [(5, 5)], [(5, 5)], [(5, 5)], [(5, 5)], [(0, 0)], [(0, 0)], [(5, 5)], [(3, 3)], [(5, 5)], [(3, 3)], [(3, 3)], [(3, 3)], [(5, 5)], [(5, 5)], [(3, 3)], [(0, 0)], [(5, 5)], [(0, 0)], [(0, 0)], [(0, 0)], [(0, 0)], [(0, 0)], [(0, 0)], [(0, 0)], [(0, 0)], [(2, 2)], [(2, 2)], [(0, 0)], [(0, 0)], [(0, 0)], [(0, 0)], [(0, 0)], [(0, 0)], [(0, 0)], [(2, 2)], [(2, 2)], [(0, 0)], [(0, 0)], [(2, 2)], [(0, 0)], [(0, 0)], [(2, 2)], [(0, 0)], [(2, 2)], [(0, 0)], [(0, 0)], [(0, 0)], [(0, 0)], [(0, 0)], [(2, 2)], [(0, 0)], [(0, 0)], [(2, 2)], [(0, 0)], [(0, 0)], [(0, 0)], [(0, 0)], [(2, 2)], [(0, 0)], [(0, 0)], [(0, 0)], [(0, 0)], [(0, 0)], [(0, 0)], [(0, 0)], [(0, 0)], [(0, 0)], [(2, 2)], [(0, 0)], [(0, 0)], [(0, 0)], [(2, 2)], [(0, 0)], [(2, 2)], [(0, 0)], [(2, 2)], [(0, 0)], [(0, 0)], [(0, 0)], [(0, 0)], [(0, 0)], [(0, 0)], [(0, 0)], [(2, 2)], [(0, 0)], [(0, 0)], [(0, 0)], [(0, 0)], [(0, 0)], [(0, 0)], [(0, 0)], [(2, 2)], [(0, 0)], [(0, 0)], [(0, 0)], [(0, 0)], [(2, 2)], [(0, 0)], [(0, 0)], [(0, 0)], [(0, 0)], [(0, 0)], [(0, 0)], [(2, 2)], [(2, 2)], [(0, 0)], [(0, 0)], [(2, 2)], [(0, 0)], [(0, 0)], [(0, 0)], [(2, 2)], [(0, 0)], [(0, 0)], [(0, 0)], [(0, 0)], [(0, 0)], [(0, 0)], [(0, 0)], [(5, 5)], [(5, 5)], [(5, 5)], [(0, 0)], [(0, 0)], [(0, 0)], [(5, 5)], [(0, 0)], [(3, 3)], [(0, 0)], [(0, 0)], [(0, 0)], [(5, 5)], [(5, 5)], [(3, 3)], [(5, 5)], [(3, 3)], [(3, 3)], [(3, 3)], [(3, 3)], [(0, 0)], [(5, 5)], [(3, 3)], [(0, 0)], [(5, 5)], [(3, 3)], [(3, 3)], [(5, 5)], [(0, 0)], [(5, 5)], [(3, 3)], [(3, 3)], [(3, 3)], [(3, 3)], [(0, 0)], [(5, 5)], [(0, 0)], [(5, 5)], [(3, 3)], [(3, 3)], [(0, 0)], [(5, 5)], [(0, 0)], [(0, 0)], [(0, 0)], [(3, 3)], [(0, 0)], [(3, 3)], [(5, 5)], [(3, 3)], [(3, 3)], [(5, 5)], [(0, 0)], [(0, 0)], [(0, 0)], [(0, 0)], [(3, 3)], [(0, 0)], [(3, 3)], [(3, 3)], [(5, 5)], [(0, 0)], [(0, 0)], [(5, 5)], [(0, 0)], [(5, 5)], [(5, 5)], [(0, 0)], [(0, 0)], [(0, 0)], [(0, 0)], [(5, 5)], [(3, 3)], [(0, 0)], [(3, 3)], [(0, 0)], [(5, 5)], [(3, 3)], [(0, 0)], [(0, 0)], [(0, 0)], [(0, 0)], [(3, 3)], [(0, 0)], [(0, 0)], [(0, 0)], [(3, 3)], [(5, 5)], [(5, 5)], [(5, 5)], [(3, 3)], [(0, 0)], [(0, 0)], [(3, 3)], [(3, 3)], [(0, 0)], [(5, 5)], [(3, 3)], [(5, 5)], [(0, 0)], [(3, 3)], [(1, 1)], [(0, 0)], [(1, 1)], [(1, 1)], [(1, 1)], [(3, 3)], [(3, 3)], [(3, 3)], [(0, 0)], [(0, 0)], [(0, 0)], [(0, 0)], [(1, 1)], [(0, 0)], [(0, 0)], [(3, 3)], [(1, 1)], [(0, 0)], [(0, 0)], [(0, 0)], [(1, 1)], [(0, 0)], [(0, 0)], [(0, 0)], [(0, 0)], [(0, 0)], [(0, 0)], [(1, 1)], [(1, 1)], [(3, 3)], [(1, 1)], [(0, 0)], [(1, 1)], [(1, 1)], [(0, 0)], [(0, 0)], [(3, 3)], [(0, 0)], [(0, 0)], [(0, 0)], [(0, 0)], [(1, 1)], [(0, 0)], [(1, 1)], [(0, 0)], [(0, 0)], [(3, 3)], [(1, 1)], [(3, 3)], [(0, 0)], [(1, 1)], [(0, 0)], [(0, 0)], [(0, 0)], [(3, 3)], [(0, 0)], [(0, 0)], [(0, 0)], [(1, 1)], [(3, 3)], [(3, 3)], [(0, 0)], [(1, 1)], [(0, 0)], [(3, 3)], [(0, 0)], [(3, 3)], [(0, 0)], [(0, 0)], [(0, 0)], [(1, 1)], [(0, 0)], [(0, 0)], [(0, 0)], [(0, 0)], [(3, 3)], [(3, 3)], [(1, 1)], [(0, 0)], [(0, 0)], [(1, 1)], [(3, 3)], [(3, 3)], [(0, 0)], [(0, 0)], [(0, 0)], [(0, 0)], [(3, 3)], [(1, 1)], [(0, 0)], [(1, 1)], [(1, 1)], [(0, 0)], [(1, 1)], [(0, 0)], [(1, 1)], [(0, 0)], [(3, 3)], [(0, 0)], [(0, 0)], [(0, 0)], [(0, 0)], [(0, 0)], [(0, 0)], [(0, 0)], [(1, 1)], [(4, 4)], [(4, 4)], [(0, 0)], [(1, 1)], [(1, 1)], [(4, 4)], [(0, 0)], [(4, 4)], [(1, 1)], [(0, 0)], [(0, 0)], [(0, 0)], [(0, 0)], [(0, 0)], [(0, 0)], [(0, 0)], [(1, 1)], [(0, 0)], [(4, 4)], [(0, 0)], [(0, 0)], [(4, 4)], [(0, 0)], [(1, 1)], [(4, 4)], [(0, 0)], [(0, 0)], [(4, 4)], [(0, 0)], [(1, 1)], [(0, 0)], [(4, 4)], [(0, 0)], [(0, 0)], [(1, 1)], [(1, 1)], [(1, 1)], [(0, 0)], [(0, 0)], [(0, 0)], [(0, 0)], [(0, 0)], [(1, 1)], [(0, 0)], [(1, 1)], [(4, 4)], [(0, 0)], [(0, 0)], [(0, 0)], [(1, 1)], [(0, 0)], [(0, 0)], [(0, 0)], [(0, 0)], [(4, 4)], [(4, 4)], [(0, 0)], [(0, 0)], [(1, 1)], [(0, 0)], [(1, 1)], [(1, 1)], [(1, 1)], [(0, 0)], [(1, 1)], [(4, 4)], [(1, 1)], [(0, 0)], [(0, 0)], [(0, 0)], [(1, 1)], [(0, 0)], [(1, 1)], [(1, 1)], [(0, 0)], [(0, 0)], [(0, 0)], [(0, 0)], [(0, 0)], [(4, 4)], [(0, 0)], [(4, 4)], [(0, 0)], [(0, 0)], [(4, 4)], [(1, 1)], [(1, 1)], [(4, 4)], [(0, 0)], [(1, 1)], [(4, 4)], [(0, 0)]]\n"
     ]
    }
   ],
   "source": [
    "print(temp)"
   ]
  },
  {
   "cell_type": "code",
   "execution_count": 10,
   "metadata": {},
   "outputs": [
    {
     "ename": "NameError",
     "evalue": "name 'n' is not defined",
     "output_type": "error",
     "traceback": [
      "\u001b[1;31m---------------------------------------------------------------------------\u001b[0m",
      "\u001b[1;31mNameError\u001b[0m                                 Traceback (most recent call last)",
      "\u001b[1;32m<ipython-input-10-b14fe03aeb98>\u001b[0m in \u001b[0;36m<module>\u001b[1;34m\u001b[0m\n\u001b[0;32m      2\u001b[0m \u001b[0mpylab\u001b[0m\u001b[1;33m.\u001b[0m\u001b[0mtitle\u001b[0m\u001b[1;33m(\u001b[0m\u001b[1;34m\"Random Walk 2D ($n = \"\u001b[0m \u001b[1;33m+\u001b[0m \u001b[0mstr\u001b[0m\u001b[1;33m(\u001b[0m\u001b[0mn_particle\u001b[0m\u001b[1;33m)\u001b[0m \u001b[1;33m+\u001b[0m \u001b[1;34m\"$ particle)\"\u001b[0m\u001b[1;33m)\u001b[0m\u001b[1;33m\u001b[0m\u001b[1;33m\u001b[0m\u001b[0m\n\u001b[0;32m      3\u001b[0m \u001b[0mpylab\u001b[0m\u001b[1;33m.\u001b[0m\u001b[0mplot\u001b[0m\u001b[1;33m(\u001b[0m\u001b[0mx\u001b[0m\u001b[1;33m,\u001b[0m\u001b[0my\u001b[0m\u001b[1;33m)\u001b[0m\u001b[1;33m\u001b[0m\u001b[1;33m\u001b[0m\u001b[0m\n\u001b[1;32m----> 4\u001b[1;33m \u001b[0mpylab\u001b[0m\u001b[1;33m.\u001b[0m\u001b[0msavefig\u001b[0m\u001b[1;33m(\u001b[0m\u001b[1;34m\"rand_walk\"\u001b[0m\u001b[1;33m+\u001b[0m\u001b[0mstr\u001b[0m\u001b[1;33m(\u001b[0m\u001b[0mn\u001b[0m\u001b[1;33m)\u001b[0m\u001b[1;33m+\u001b[0m\u001b[1;34m\".png\"\u001b[0m\u001b[1;33m,\u001b[0m \u001b[0mbbox_inches\u001b[0m\u001b[1;33m+\u001b[0m\u001b[1;34m\"tight\"\u001b[0m\u001b[1;33m,\u001b[0m \u001b[0mdpi\u001b[0m\u001b[1;33m=\u001b[0m\u001b[1;36m600\u001b[0m\u001b[1;33m)\u001b[0m\u001b[1;33m\u001b[0m\u001b[1;33m\u001b[0m\u001b[0m\n\u001b[0m\u001b[0;32m      5\u001b[0m \u001b[0mpylab\u001b[0m\u001b[1;33m.\u001b[0m\u001b[0mshow\u001b[0m\u001b[1;33m(\u001b[0m\u001b[1;33m)\u001b[0m\u001b[1;33m\u001b[0m\u001b[1;33m\u001b[0m\u001b[0m\n",
      "\u001b[1;31mNameError\u001b[0m: name 'n' is not defined"
     ]
    },
    {
     "data": {
      "image/png": "[encoded data removed]",
      "text/plain": [
       "<Figure size 432x288 with 1 Axes>"
      ]
     },
     "metadata": {
      "needs_background": "light"
     },
     "output_type": "display_data"
    }
   ],
   "source": []
  },
  {
   "cell_type": "code",
   "execution_count": null,
   "metadata": {},
   "outputs": [],
   "source": []
  }
 ],
 "metadata": {
  "kernelspec": {
   "display_name": "Python 3",
   "language": "python",
   "name": "python3"
  },
  "language_info": {
   "codemirror_mode": {
    "name": "ipython",
    "version": 3
   },
   "file_extension": ".py",
   "mimetype": "text/x-python",
   "name": "python",
   "nbconvert_exporter": "python",
   "pygments_lexer": "ipython3",
   "version": "3.7.4"
  }
 },
 "nbformat": 4,
 "nbformat_minor": 2
}
